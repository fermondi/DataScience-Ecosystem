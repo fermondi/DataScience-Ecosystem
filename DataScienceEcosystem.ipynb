{
 "cells": [
  {
   "cell_type": "markdown",
   "id": "ce73bd61-5fb8-4887-bfa2-64cf20d30258",
   "metadata": {},
   "source": [
    "<h1> Data Science Tools and Ecosystem </h1>"
   ]
  },
  {
   "cell_type": "markdown",
   "id": "dcef2ae1-5db7-476f-9f41-e745728f3b6e",
   "metadata": {},
   "source": [
    "<h2>En este documento se resumen las herramientas y esosistemas de ciencia de datos</h2>"
   ]
  },
  {
   "cell_type": "markdown",
   "id": "fff6df12-4d48-4ab6-910f-e664ebbdac3a",
   "metadata": {},
   "source": [
    "<h3>Algunos de los Lenguajes populares que utilizan los cientificos de datos son:</h3>\n",
    "\n",
    "1. Python\n",
    "2. R\n",
    "3. SQL\n",
    "4. Java\n",
    "5. Julia\n",
    "6. Scala\n",
    "7. Java script\n",
    "8. C/C++"
   ]
  },
  {
   "cell_type": "markdown",
   "id": "76e0f170-0598-4213-a995-8ea5b9157eab",
   "metadata": {},
   "source": [
    "<h3> Algunas de las bibliotecas comunmente utilizadas por los cientificos de datos incluyen:</h3>\n",
    "\n",
    "1. Numpy\n",
    "2. Pandas\n",
    "3. Matplotlib\n",
    "4. Seaborn\n",
    "5. Scikit-learn\n",
    "6. Ploty"
   ]
  },
  {
   "cell_type": "markdown",
   "id": "743bc29c-e3ca-42d1-b5ec-14c30ac83895",
   "metadata": {},
   "source": [
    "|Herramientas de Ciencias de Datos|\n",
    "|--------------|\n",
    "|Python|\n",
    "|R|\n",
    "|Jupyter Notebooks|\n",
    "|Scikit-learn|\n",
    "|TensorFlow y Pytouch|\n",
    "|Pandas|\n",
    "|Numpy|"
   ]
  },
  {
   "cell_type": "markdown",
   "id": "715b16b4-cb45-4d2e-8c02-18fa0d893032",
   "metadata": {},
   "source": [
    "<h3>Se presentan algunos ejemplos de expresiones arimeticas en Python</h3>\n",
    "\n",
    "1. 12 - 6\n",
    "2. 50 * 2\n",
    "3. 42 + pow(10,2)\n",
    "4. abs(-15) / 3\n",
    "5. 2 + 200 / 2"
   ]
  },
  {
   "cell_type": "markdown",
   "id": "5fa923a3-91a3-4ee1-87ec-43d64ac22c0b",
   "metadata": {},
   "source": [
    "<h3>Esta es una expresión arimetica simple para multiplicar y luego sumar enteros</h3>"
   ]
  },
  {
   "cell_type": "code",
   "execution_count": 79,
   "id": "0653b665-0c5d-40a6-9548-79636d37016d",
   "metadata": {},
   "outputs": [
    {
     "data": {
      "text/plain": [
       "17"
      ]
     },
     "execution_count": 79,
     "metadata": {},
     "output_type": "execute_result"
    }
   ],
   "source": [
    "(3*4)+5"
   ]
  },
  {
   "cell_type": "markdown",
   "id": "15d42546-ea07-4e45-936c-7e9d83d1102e",
   "metadata": {},
   "source": [
    "<h3>Esta operación convertira 200 miutos a horas dividiendo por 60</h3>"
   ]
  },
  {
   "cell_type": "code",
   "execution_count": 82,
   "id": "1427b42f-0df9-4add-8dfd-d4ec2e761f48",
   "metadata": {},
   "outputs": [
    {
     "name": "stdout",
     "output_type": "stream",
     "text": [
      "3.3333333333333335\n"
     ]
    }
   ],
   "source": [
    "minutos = 200\n",
    "horas = minutos / 60\n",
    "print(horas)"
   ]
  },
  {
   "cell_type": "markdown",
   "id": "7df89389-4f4a-4559-84b0-8bff09255324",
   "metadata": {},
   "source": [
    "<h3> En este cuaderno, se resumen las herramientas y ecosistemas de ciencia de datos</h3>\n",
    "<h3>**Objetivos:**</h3>\n",
    "\n",
    "- Python\n",
    "- R\n",
    "- SQL\n",
    "- Java\n",
    "- Javascript"
   ]
  },
  {
   "cell_type": "markdown",
   "id": "6911317e-023e-482f-831f-2a9e292dc37a",
   "metadata": {},
   "source": [
    "## **Autor**\n",
    "### **Fermin Montiel Diaz**"
   ]
  },
  {
   "cell_type": "code",
   "execution_count": null,
   "id": "26616f89-26f3-47c1-8329-a1f0970faedd",
   "metadata": {},
   "outputs": [],
   "source": []
  }
 ],
 "metadata": {
  "kernelspec": {
   "display_name": "Python [conda env:base] *",
   "language": "python",
   "name": "conda-base-py"
  },
  "language_info": {
   "codemirror_mode": {
    "name": "ipython",
    "version": 3
   },
   "file_extension": ".py",
   "mimetype": "text/x-python",
   "name": "python",
   "nbconvert_exporter": "python",
   "pygments_lexer": "ipython3",
   "version": "3.12.7"
  }
 },
 "nbformat": 4,
 "nbformat_minor": 5
}
